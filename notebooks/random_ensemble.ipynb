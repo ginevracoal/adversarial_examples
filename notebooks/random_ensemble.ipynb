{
 "cells": [
  {
   "cell_type": "markdown",
   "metadata": {},
   "source": [
    "# Random Ensemble Model"
   ]
  },
  {
   "cell_type": "code",
   "execution_count": 1,
   "metadata": {},
   "outputs": [
    {
     "name": "stderr",
     "output_type": "stream",
     "text": [
      "Using TensorFlow backend.\n"
     ]
    }
   ],
   "source": [
    "import sys\n",
    "from os.path import abspath\n",
    "\n",
    "sys.path.append(abspath('../src/'))\n",
    "\n",
    "import keras\n",
    "from keras.models import Sequential, Model\n",
    "from keras.layers import Dense, Dropout, Flatten, Input\n",
    "from keras.layers import Conv2D, MaxPooling2D\n",
    "from utils import *\n",
    "from baseline_convnet import BaselineConvnet\n",
    "import matplotlib.pyplot as plt\n",
    "from sklearn import preprocessing\n",
    "import random\n",
    "from random_ensemble import RandomEnsemble"
   ]
  },
  {
   "cell_type": "markdown",
   "metadata": {},
   "source": [
    "## Model description\n",
    "\n",
    "Random Ensemble model classifies random projections of the training data in a lower dimensional space using the baseline model. \n",
    "Then classifies the original high dimensional data with a voting technique: it simply sums up the probabilities from of the classifiers for each class.\n",
    "In the following examples, the model has been trained using a varying number of projections, subspace size equal to 8 (projected images of dimension 8x8).\n",
    "\n",
    "\n",
    "## Recap of this notebook\n",
    "\n",
    "\n",
    "Model accuracy (%): number of projections vs evaluation set\n",
    "\n",
    "\n",
    "| n. projection | test set | FGSM attacks | deepfool attacks | projected gradient attacks |\n",
    "| ------------- | -------- | ------------ | ---------------- | -------------------------- |\n",
    "| 1 | 93.52 | 42.80 | 92.11 | 62.81 |\n",
    "| 3 | 81.25 | 32.44 | 80.41 | 45.67 |\n",
    "| 5 | 55.94 | 21.99 | 54.87 | 31.39 |\n",
    "| 10 | 30.69 | 15.35 | 31.11 | 18.10 |\n",
    "\n",
    "As the number of projections increases, accuracy decreases on both the test set and the adversaries."
   ]
  },
  {
   "cell_type": "markdown",
   "metadata": {},
   "source": [
    "# Single projection"
   ]
  },
  {
   "cell_type": "markdown",
   "metadata": {},
   "source": [
    "Testing the model on a single projection."
   ]
  },
  {
   "cell_type": "code",
   "execution_count": 3,
   "metadata": {},
   "outputs": [
    {
     "name": "stdout",
     "output_type": "stream",
     "text": [
      "\n",
      "Loading mnist.\n",
      "x_train shape: (60000, 28, 28, 1) \n",
      "x_test shape: (10000, 28, 28, 1)\n"
     ]
    }
   ],
   "source": [
    "x_train, y_train, x_test, y_test, input_shape, num_classes = preprocess_mnist()\n",
    "model = RandomEnsemble(input_shape=input_shape, num_classes=num_classes, n_proj=1, size_proj=8)\n",
    "classifier = model.load_classifier(\n",
    "    relative_path=\"../trained_models/random_ensemble/random_ensemble_proj=1_size=8/\",\n",
    "    model_name = \"random_ensemble\")"
   ]
  },
  {
   "cell_type": "markdown",
   "metadata": {},
   "source": [
    "### Test set evaluation\n",
    "Evaluation of this model on the test set."
   ]
  },
  {
   "cell_type": "code",
   "execution_count": 4,
   "metadata": {},
   "outputs": [
    {
     "name": "stdout",
     "output_type": "stream",
     "text": [
      "\n",
      "Testing infos:\n",
      "x_test.shape =  (10000, 28, 28, 1) \n",
      "y_test.shape =  (10000, 10) \n",
      "\n",
      "\n",
      "Computing random projections.\n",
      "Input shape:  (10000, 28, 28, 1)\n",
      "Projected data shape: (1, 10000, 8, 8, 1)\n",
      "\n",
      "Original test data.\n",
      "Correctly classified: 9352\n",
      "Incorrectly classified: 648\n",
      "Test accuracy: 93.52%\n"
     ]
    }
   ],
   "source": [
    "x_test_pred = model.evaluate_test(classifier, x_test, y_test)"
   ]
  },
  {
   "cell_type": "markdown",
   "metadata": {},
   "source": [
    "### Adversaries evaluation\n",
    "Evaluation on different adversarial perturbations of the test set, which have been projected along the training projection direction."
   ]
  },
  {
   "cell_type": "code",
   "execution_count": 5,
   "metadata": {},
   "outputs": [
    {
     "name": "stdout",
     "output_type": "stream",
     "text": [
      "\n",
      "Adversarial evaluation using fgsm method.\n",
      "\n",
      "Computing random projections.\n",
      "Input shape:  (10000, 28, 28, 1)\n",
      "Projected data shape: (1, 10000, 8, 8, 1)\n",
      "\n",
      "Adversarial test data.\n",
      "Correctly classified: 4280\n",
      "Incorrectly classified: 5720\n",
      "Adversarial accuracy: 42.80%\n"
     ]
    }
   ],
   "source": [
    "x_test_fgsm, x_test_fgsm_pred = model.evaluate_adversaries(classifier, x_test, y_test)"
   ]
  },
  {
   "cell_type": "code",
   "execution_count": 6,
   "metadata": {},
   "outputs": [
    {
     "name": "stdout",
     "output_type": "stream",
     "text": [
      "\n",
      "Adversarial evaluation using deepfool method.\n",
      "\n",
      "Computing random projections.\n",
      "Input shape:  (10000, 28, 28, 1)\n",
      "Projected data shape: (1, 10000, 8, 8, 1)\n",
      "\n",
      "Adversarial test data.\n",
      "Correctly classified: 9211\n",
      "Incorrectly classified: 789\n",
      "Adversarial accuracy: 92.11%\n"
     ]
    }
   ],
   "source": [
    "x_test_deepfool, x_test_deepfool_pred = model.evaluate_adversaries(classifier, x_test, y_test, method='deepfool',\n",
    "                                        adversaries_path='../data/mnist_x_test_deepfool.pkl')"
   ]
  },
  {
   "cell_type": "code",
   "execution_count": 7,
   "metadata": {},
   "outputs": [
    {
     "name": "stdout",
     "output_type": "stream",
     "text": [
      "\n",
      "Adversarial evaluation using projected_gradient method.\n",
      "\n",
      "Computing random projections.\n",
      "Input shape:  (10000, 28, 28, 1)\n",
      "Projected data shape: (1, 10000, 8, 8, 1)\n",
      "\n",
      "Adversarial test data.\n",
      "Correctly classified: 6281\n",
      "Incorrectly classified: 3719\n",
      "Adversarial accuracy: 62.81%\n"
     ]
    }
   ],
   "source": [
    "x_test_projected, x_test_projected_pred = model.evaluate_adversaries(classifier, x_test, y_test, method='projected_gradient',\n",
    "                                        adversaries_path='../data/mnist_x_test_projected_gradient.pkl')"
   ]
  },
  {
   "cell_type": "markdown",
   "metadata": {},
   "source": [
    "### Robust classifier\n",
    "\n",
    "This is the same model trained using FGSM Adversarial training on a single projection."
   ]
  },
  {
   "cell_type": "code",
   "execution_count": 9,
   "metadata": {},
   "outputs": [],
   "source": [
    "robust_classifier = model.load_classifier(\n",
    "                    relative_path=\"../trained_models/random_ensemble/robust_fgsm_seed=123/\",\n",
    "                    model_name=\"random_ensemble_robust_fgsm\")"
   ]
  },
  {
   "cell_type": "code",
   "execution_count": 10,
   "metadata": {},
   "outputs": [
    {
     "name": "stdout",
     "output_type": "stream",
     "text": [
      "\n",
      "Adversarial evaluation using fgsm method.\n",
      "\n",
      "Computing random projections.\n",
      "Input shape:  (10000, 28, 28, 1)\n",
      "Projected data shape: (1, 10000, 8, 8, 1)\n",
      "\n",
      "Adversarial test data.\n",
      "Correctly classified: 7123\n",
      "Incorrectly classified: 2877\n",
      "Adversarial accuracy: 71.23%\n"
     ]
    }
   ],
   "source": [
    "x_test_fgsm, x_test_fgsm_pred = model.evaluate_adversaries(robust_classifier, x_test, y_test, method='fgsm')"
   ]
  },
  {
   "cell_type": "markdown",
   "metadata": {},
   "source": [
    "### Robust classifier trasferability\n",
    "Let's see how it performs against the other adversaries."
   ]
  },
  {
   "cell_type": "code",
   "execution_count": 11,
   "metadata": {},
   "outputs": [
    {
     "name": "stdout",
     "output_type": "stream",
     "text": [
      "\n",
      "Adversarial evaluation using deepfool method.\n",
      "\n",
      "Computing random projections.\n",
      "Input shape:  (10000, 28, 28, 1)\n",
      "Projected data shape: (1, 10000, 8, 8, 1)\n",
      "\n",
      "Adversarial test data.\n",
      "Correctly classified: 9130\n",
      "Incorrectly classified: 870\n",
      "Adversarial accuracy: 91.30%\n"
     ]
    }
   ],
   "source": [
    "x_test_deepfool, x_test_deepfool_pred = model.evaluate_adversaries(robust_classifier, x_test, y_test, \n",
    "                                        method='deepfool',\n",
    "                                        adversaries_path='../data/mnist_x_test_deepfool.pkl')"
   ]
  },
  {
   "cell_type": "code",
   "execution_count": 12,
   "metadata": {},
   "outputs": [
    {
     "name": "stdout",
     "output_type": "stream",
     "text": [
      "\n",
      "Adversarial evaluation using projected_gradient method.\n",
      "\n",
      "Computing random projections.\n",
      "Input shape:  (10000, 28, 28, 1)\n",
      "Projected data shape: (1, 10000, 8, 8, 1)\n",
      "\n",
      "Adversarial test data.\n",
      "Correctly classified: 7657\n",
      "Incorrectly classified: 2343\n",
      "Adversarial accuracy: 76.57%\n"
     ]
    }
   ],
   "source": [
    "x_test_projected, x_test_projected_pred = model.evaluate_adversaries(robust_classifier, x_test, y_test, \n",
    "                                          method='projected_gradient',\n",
    "                                          adversaries_path='../data/mnist_x_test_projected_gradient.pkl')"
   ]
  },
  {
   "cell_type": "markdown",
   "metadata": {},
   "source": [
    "### Single projection model vs baseline\n",
    "\n",
    "The random ensemble model here is the one just trained (single projection model).\n",
    "\n",
    "FGSM training is adversarial training on FGSM adversaries.\n",
    "\n",
    "| model vs evaluation set | test set | FGSM attacks | deepfool attacks | projected gradient attacks | \n",
    "| ------------- | -------- | ------------ | ---------------- | -------------------- |\n",
    "| baseline    | 99.23 | 24.17 | 56.80 | 12.58 | \n",
    "| random ens. | 93.52 | 42.80 | 92.11 | 62.81 |\n",
    "| baseline + FGSM training | - | 81.45 | 97.46 | 25.92 |\n",
    "| random ens. + FGSM training | - |  71.23 | 91.30 | 76.57\n"
   ]
  },
  {
   "cell_type": "markdown",
   "metadata": {},
   "source": [
    "## Ensemble on 3 projections\n",
    "This is the ensemble model trained on 3 different random projections of the original data."
   ]
  },
  {
   "cell_type": "code",
   "execution_count": 27,
   "metadata": {},
   "outputs": [
    {
     "name": "stdout",
     "output_type": "stream",
     "text": [
      "\n",
      "Loading mnist.\n",
      "x_train shape: (60000, 28, 28, 1) \n",
      "x_test shape: (10000, 28, 28, 1)\n",
      "\n",
      "Testing infos:\n",
      "x_test.shape =  (10000, 28, 28, 1) \n",
      "y_test.shape =  (10000, 10) \n",
      "\n",
      "\n",
      "Computing random projections.\n",
      "Input shape:  (10000, 28, 28, 1)\n",
      "Projected data shape: (3, 10000, 8, 8, 1)\n",
      "\n",
      "Original test data.\n",
      "Correctly classified: 8125\n",
      "Incorrectly classified: 1875\n",
      "Test accuracy: 81.25%\n",
      "\n",
      "Adversarial evaluation using fgsm method.\n",
      "\n",
      "Computing random projections.\n",
      "Input shape:  (10000, 28, 28, 1)\n",
      "Projected data shape: (3, 10000, 8, 8, 1)\n",
      "\n",
      "Adversarial test data.\n",
      "Correctly classified: 3244\n",
      "Incorrectly classified: 6756\n",
      "Adversarial accuracy: 32.44%\n",
      "\n",
      "Adversarial evaluation using deepfool method.\n",
      "\n",
      "Computing random projections.\n",
      "Input shape:  (10000, 28, 28, 1)\n",
      "Projected data shape: (3, 10000, 8, 8, 1)\n",
      "\n",
      "Adversarial test data.\n",
      "Correctly classified: 8041\n",
      "Incorrectly classified: 1959\n",
      "Adversarial accuracy: 80.41%\n",
      "\n",
      "Adversarial evaluation using projected_gradient method.\n",
      "\n",
      "Computing random projections.\n",
      "Input shape:  (10000, 28, 28, 1)\n",
      "Projected data shape: (3, 10000, 8, 8, 1)\n",
      "\n",
      "Adversarial test data.\n",
      "Correctly classified: 4567\n",
      "Incorrectly classified: 5433\n",
      "Adversarial accuracy: 45.67%\n"
     ]
    }
   ],
   "source": [
    "x_train, y_train, x_test, y_test, input_shape, num_classes = preprocess_mnist()\n",
    "model = RandomEnsemble(input_shape=input_shape, num_classes=num_classes, n_proj=3, size_proj=8)\n",
    "classifier = model.load_classifier(\n",
    "    relative_path=\"../trained_models/random_ensemble/random_ensemble_proj=3_size=8/\",\n",
    "    model_name = \"random_ensemble\")\n",
    "\n",
    "# test set \n",
    "x_test_pred = model.evaluate_test(classifier, x_test, y_test)\n",
    "\n",
    "# adversaries\n",
    "x_test_fgsm, x_test_fgsm_pred = model.evaluate_adversaries(classifier, x_test, y_test)\n",
    "x_test_deepfool, x_test_deepfool_pred = model.evaluate_adversaries(classifier, x_test, y_test, method='deepfool',\n",
    "                                        adversaries_path='../data/mnist_x_test_deepfool.pkl')\n",
    "x_test_projected, x_test_projected_pred = model.evaluate_adversaries(classifier, x_test, y_test, method='projected_gradient',\n",
    "                                        adversaries_path='../data/mnist_x_test_projected_gradient.pkl')"
   ]
  },
  {
   "cell_type": "markdown",
   "metadata": {},
   "source": [
    "### What's happening in the ensemble classification?\n",
    "\n",
    "Each model is trained in the lower dimensional space of the whole dataset projection along a subset of random directions.\n",
    "After training these models separately, the final ensemble classification is simply argmax of the vector containing the sum of all probabilities in each class, as shown below for a particular image."
   ]
  },
  {
   "cell_type": "code",
   "execution_count": 28,
   "metadata": {},
   "outputs": [
    {
     "name": "stdout",
     "output_type": "stream",
     "text": [
      "\n",
      "Computing random projections.\n",
      "Input shape:  (10000, 28, 28, 1)\n",
      "Projected data shape: (3, 10000, 8, 8, 1)\n",
      "\n",
      "Predictions on the first element by each single classifier:\n",
      " [[0.04745529 0.00188083 0.01035858 0.21188359 0.00125252 0.44483757\n",
      "  0.00074033 0.13916749 0.01394993 0.1284739 ]\n",
      " [0.00259137 0.00002327 0.48114488 0.42658636 0.00003032 0.01012747\n",
      "  0.00002206 0.03735029 0.02623402 0.0158899 ]\n",
      " [0.00000004 0.00000041 0.00000277 0.00001737 0.00000067 0.00000228\n",
      "  0.         0.9995009  0.00000014 0.0004754 ]]\n",
      "\n",
      "Ensemble prediction on the first element:\n",
      " [0.05004669 0.00190451 0.49150622 0.6384873  0.0012835  0.45496735\n",
      " 0.0007624  1.1760187  0.04018409 0.14483918]\n"
     ]
    }
   ],
   "source": [
    "# getting the arrays containing 3 projected predictions and final ensemble prediction on the first image\n",
    "x_test_projected = compute_projections(x_test, random_seeds=model.random_seeds,\n",
    "                                               n_proj=model.n_proj, size_proj=model.size_proj)\n",
    "\n",
    "predictions = np.array([classifier.predict(x_test_projected[i]) for i, classifier in enumerate(classifier)])\n",
    "\n",
    "np.set_printoptions(suppress=True)\n",
    "print(\"\\nPredictions on the first element by each single classifier:\\n\", predictions[:, 0])\n",
    "#print(predictions.shape)\n",
    "# sum the probabilities across all predictors\n",
    "summed_predictions = np.sum(predictions, axis=0)\n",
    "\n",
    "print(\"\\nEnsemble prediction on the first element:\\n\", summed_predictions[0])\n",
    "#print(summed_predictions.shape)"
   ]
  },
  {
   "cell_type": "code",
   "execution_count": 23,
   "metadata": {},
   "outputs": [
    {
     "data": {
      "image/png": "[encoded data removed]",
      "text/plain": [
       "<Figure size 432x288 with 1 Axes>"
      ]
     },
     "metadata": {
      "needs_background": "light"
     },
     "output_type": "display_data"
    },
    {
     "data": {
      "image/png": "[encoded data removed]",
      "text/plain": [
       "<Figure size 864x864 with 3 Axes>"
      ]
     },
     "metadata": {
      "needs_background": "light"
     },
     "output_type": "display_data"
    }
   ],
   "source": [
    "# original image\n",
    "im = x_test[0].reshape(28,28)\n",
    "plt.imshow(im, cmap='gray')\n",
    "plt.show()\n",
    "\n",
    "# projected images\n",
    "im_test = [im.reshape(8, 8) for im in x_test_projected[:,0]]\n",
    "\n",
    "f, ax = plt.subplots(1, 3, figsize=(6,6))\n",
    "for i in range(3):\n",
    "    ax[i].imshow(im_test[i], cmap='gray')\n",
    "plt.show()"
   ]
  },
  {
   "cell_type": "markdown",
   "metadata": {},
   "source": [
    "## 5 projections"
   ]
  },
  {
   "cell_type": "code",
   "execution_count": 25,
   "metadata": {},
   "outputs": [
    {
     "name": "stdout",
     "output_type": "stream",
     "text": [
      "\n",
      "Loading mnist.\n",
      "x_train shape: (60000, 28, 28, 1) \n",
      "x_test shape: (10000, 28, 28, 1)\n",
      "\n",
      "Testing infos:\n",
      "x_test.shape =  (10000, 28, 28, 1) \n",
      "y_test.shape =  (10000, 10) \n",
      "\n",
      "\n",
      "Computing random projections.\n",
      "Input shape:  (10000, 28, 28, 1)\n",
      "Projected data shape: (5, 10000, 8, 8, 1)\n",
      "\n",
      "Original test data.\n",
      "Correctly classified: 5594\n",
      "Incorrectly classified: 4406\n",
      "Test accuracy: 55.94%\n",
      "\n",
      "Adversarial evaluation using fgsm method.\n",
      "\n",
      "Computing random projections.\n",
      "Input shape:  (10000, 28, 28, 1)\n",
      "Projected data shape: (5, 10000, 8, 8, 1)\n",
      "\n",
      "Adversarial test data.\n",
      "Correctly classified: 2199\n",
      "Incorrectly classified: 7801\n",
      "Adversarial accuracy: 21.99%\n",
      "\n",
      "Adversarial evaluation using deepfool method.\n",
      "\n",
      "Computing random projections.\n",
      "Input shape:  (10000, 28, 28, 1)\n",
      "Projected data shape: (5, 10000, 8, 8, 1)\n",
      "\n",
      "Adversarial test data.\n",
      "Correctly classified: 5487\n",
      "Incorrectly classified: 4513\n",
      "Adversarial accuracy: 54.87%\n",
      "\n",
      "Adversarial evaluation using projected_gradient method.\n",
      "\n",
      "Computing random projections.\n",
      "Input shape:  (10000, 28, 28, 1)\n",
      "Projected data shape: (5, 10000, 8, 8, 1)\n",
      "\n",
      "Adversarial test data.\n",
      "Correctly classified: 3139\n",
      "Incorrectly classified: 6861\n",
      "Adversarial accuracy: 31.39%\n"
     ]
    }
   ],
   "source": [
    "x_train, y_train, x_test, y_test, input_shape, num_classes = preprocess_mnist()\n",
    "model = RandomEnsemble(input_shape=input_shape, num_classes=num_classes, n_proj=5, size_proj=8)\n",
    "classifier = model.load_classifier(\n",
    "    relative_path=\"../trained_models/random_ensemble/random_ensemble_proj=5_size=8/\",\n",
    "    model_name = \"random_ensemble\")\n",
    "\n",
    "# test set \n",
    "x_test_pred = model.evaluate_test(classifier, x_test, y_test)\n",
    "\n",
    "# adversaries\n",
    "x_test_fgsm, x_test_fgsm_pred = model.evaluate_adversaries(classifier, x_test, y_test)\n",
    "x_test_deepfool, x_test_deepfool_pred = model.evaluate_adversaries(classifier, x_test, y_test, method='deepfool',\n",
    "                                        adversaries_path='../data/mnist_x_test_deepfool.pkl')\n",
    "x_test_projected, x_test_projected_pred = model.evaluate_adversaries(classifier, x_test, y_test, method='projected_gradient',\n",
    "                                        adversaries_path='../data/mnist_x_test_projected_gradient.pkl')"
   ]
  },
  {
   "cell_type": "markdown",
   "metadata": {},
   "source": [
    "## 10 projections"
   ]
  },
  {
   "cell_type": "code",
   "execution_count": 24,
   "metadata": {},
   "outputs": [
    {
     "name": "stdout",
     "output_type": "stream",
     "text": [
      "\n",
      "Loading mnist.\n",
      "x_train shape: (60000, 28, 28, 1) \n",
      "x_test shape: (10000, 28, 28, 1)\n",
      "\n",
      "Testing infos:\n",
      "x_test.shape =  (10000, 28, 28, 1) \n",
      "y_test.shape =  (10000, 10) \n",
      "\n",
      "\n",
      "Computing random projections.\n",
      "Input shape:  (10000, 28, 28, 1)\n",
      "Projected data shape: (10, 10000, 8, 8, 1)\n",
      "\n",
      "Original test data.\n",
      "Correctly classified: 3069\n",
      "Incorrectly classified: 6931\n",
      "Test accuracy: 30.69%\n",
      "\n",
      "Adversarial evaluation using fgsm method.\n",
      "\n",
      "Computing random projections.\n",
      "Input shape:  (10000, 28, 28, 1)\n",
      "Projected data shape: (10, 10000, 8, 8, 1)\n",
      "\n",
      "Adversarial test data.\n",
      "Correctly classified: 1535\n",
      "Incorrectly classified: 8465\n",
      "Adversarial accuracy: 15.35%\n",
      "\n",
      "Adversarial evaluation using deepfool method.\n",
      "\n",
      "Computing random projections.\n",
      "Input shape:  (10000, 28, 28, 1)\n",
      "Projected data shape: (10, 10000, 8, 8, 1)\n",
      "\n",
      "Adversarial test data.\n",
      "Correctly classified: 3111\n",
      "Incorrectly classified: 6889\n",
      "Adversarial accuracy: 31.11%\n",
      "\n",
      "Adversarial evaluation using projected_gradient method.\n",
      "\n",
      "Computing random projections.\n",
      "Input shape:  (10000, 28, 28, 1)\n",
      "Projected data shape: (10, 10000, 8, 8, 1)\n",
      "\n",
      "Adversarial test data.\n",
      "Correctly classified: 1810\n",
      "Incorrectly classified: 8190\n",
      "Adversarial accuracy: 18.10%\n"
     ]
    }
   ],
   "source": [
    "x_train, y_train, x_test, y_test, input_shape, num_classes = preprocess_mnist()\n",
    "model = RandomEnsemble(input_shape=input_shape, num_classes=num_classes, n_proj=10, size_proj=8)\n",
    "classifier = model.load_classifier(\n",
    "    relative_path=\"../trained_models/random_ensemble/random_ensemble_proj=10_size=8/\",\n",
    "    model_name = \"random_ensemble\")\n",
    "\n",
    "# test set \n",
    "x_test_pred = model.evaluate_test(classifier, x_test, y_test)\n",
    "\n",
    "# adversaries\n",
    "x_test_fgsm, x_test_fgsm_pred = model.evaluate_adversaries(classifier, x_test, y_test)\n",
    "x_test_deepfool, x_test_deepfool_pred = model.evaluate_adversaries(classifier, x_test, y_test, method='deepfool',\n",
    "                                        adversaries_path='../data/mnist_x_test_deepfool.pkl')\n",
    "x_test_projected, x_test_projected_pred = model.evaluate_adversaries(classifier, x_test, y_test, method='projected_gradient',\n",
    "                                        adversaries_path='../data/mnist_x_test_projected_gradient.pkl')"
   ]
  }
 ],
 "metadata": {
  "kernelspec": {
   "display_name": "Python 3",
   "language": "python",
   "name": "python3"
  },
  "language_info": {
   "codemirror_mode": {
    "name": "ipython",
    "version": 3
   },
   "file_extension": ".py",
   "mimetype": "text/x-python",
   "name": "python",
   "nbconvert_exporter": "python",
   "pygments_lexer": "ipython3",
   "version": "3.6.7"
  }
 },
 "nbformat": 4,
 "nbformat_minor": 2
}
