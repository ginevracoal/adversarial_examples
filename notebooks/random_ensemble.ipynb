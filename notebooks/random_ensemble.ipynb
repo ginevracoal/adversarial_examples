{
 "cells": [
  {
   "cell_type": "markdown",
   "metadata": {},
   "source": [
    "# Random Ensemble Model"
   ]
  },
  {
   "cell_type": "code",
   "execution_count": 1,
   "metadata": {},
   "outputs": [
    {
     "name": "stderr",
     "output_type": "stream",
     "text": [
      "Using TensorFlow backend.\n"
     ]
    }
   ],
   "source": [
    "import sys\n",
    "from os.path import abspath\n",
    "\n",
    "sys.path.append(abspath('../src/'))\n",
    "\n",
    "import keras\n",
    "from keras.models import Sequential, Model\n",
    "from keras.layers import Dense, Dropout, Flatten, Input\n",
    "from keras.layers import Conv2D, MaxPooling2D\n",
    "from utils import *\n",
    "from baseline_convnet import BaselineConvnet\n",
    "import matplotlib.pyplot as plt\n",
    "from sklearn import preprocessing\n",
    "import random\n",
    "from random_ensemble import RandomEnsemble"
   ]
  },
  {
   "cell_type": "code",
   "execution_count": 2,
   "metadata": {},
   "outputs": [
    {
     "name": "stdout",
     "output_type": "stream",
     "text": [
      "\n",
      "Loading mnist.\n",
      "x_train shape: (60000, 28, 28, 1) \n",
      "x_test shape: (10000, 28, 28, 1)\n",
      "WARNING:tensorflow:From /home/ginevracoal/virtualenvs/venv/lib/python3.6/site-packages/tensorflow/python/framework/op_def_library.py:263: colocate_with (from tensorflow.python.framework.ops) is deprecated and will be removed in a future version.\n",
      "Instructions for updating:\n",
      "Colocations handled automatically by placer.\n",
      "WARNING:tensorflow:From /home/ginevracoal/virtualenvs/venv/lib/python3.6/site-packages/keras/backend/tensorflow_backend.py:3445: calling dropout (from tensorflow.python.ops.nn_ops) with keep_prob is deprecated and will be removed in a future version.\n",
      "Instructions for updating:\n",
      "Please use `rate` instead of `keep_prob`. Rate should be set to `rate = 1 - keep_prob`.\n"
     ]
    }
   ],
   "source": [
    "x_train, y_train, x_test, y_test, input_shape, num_classes = preprocess_mnist()\n",
    "model = RandomEnsemble(input_shape=input_shape, num_classes=num_classes, n_proj=10, size_proj=8)"
   ]
  },
  {
   "cell_type": "code",
   "execution_count": 6,
   "metadata": {},
   "outputs": [],
   "source": [
    "classifier, projector = model.load_classifier(\n",
    "    relative_path=\"../trained_models/baseline_convnet/baseline_proj10_size8/\")"
   ]
  },
  {
   "cell_type": "code",
   "execution_count": 7,
   "metadata": {},
   "outputs": [
    {
     "name": "stdout",
     "output_type": "stream",
     "text": [
      "\n",
      "Testing infos:\n",
      "x_test.shape =  (10000, 28, 28, 1) \n",
      "y_test.shape =  (10000, 10) \n",
      "\n",
      "\n",
      "Computing random projections.\n",
      "Input shape:  (10000, 28, 28, 1)\n",
      "Output shape: (10, 10000, 8, 8, 1) -> 10 random projections of 10000 images whose shape is (8, 8, 1)\n",
      "\n",
      "Original test data.\n",
      "Correctly classified: 9416\n",
      "Incorrectly classified: 584\n",
      "Test accuracy: 94.16%\n"
     ]
    }
   ],
   "source": [
    "x_test_pred = model.evaluate_test(classifier, x_test, y_test)"
   ]
  },
  {
   "cell_type": "code",
   "execution_count": 8,
   "metadata": {},
   "outputs": [
    {
     "name": "stdout",
     "output_type": "stream",
     "text": [
      "\n",
      "Adversarial evaluation using FGSM method.\n",
      "\n",
      "Computing random projections.\n",
      "Input shape:  (10000, 28, 28, 1)\n",
      "Output shape: (10, 10000, 8, 8, 1) -> 10 random projections of 10000 images whose shape is (8, 8, 1)\n",
      "\n",
      "Adversarial test data.\n",
      "Correctly classified: 4213\n",
      "Incorrectly classified: 5787\n",
      "Adversarial accuracy: 42.13%\n"
     ]
    }
   ],
   "source": [
    "x_test_fgsm, x_test_fgsm_pred = model.evaluate_adversaries(classifier, x_test, y_test)"
   ]
  },
  {
   "cell_type": "code",
   "execution_count": 9,
   "metadata": {},
   "outputs": [
    {
     "name": "stdout",
     "output_type": "stream",
     "text": [
      "\n",
      "Computing random projections.\n",
      "Input shape:  (10000, 28, 28, 1)\n",
      "Output shape: (10, 10000, 8, 8, 1) -> 10 random projections of 10000 images whose shape is (8, 8, 1)\n",
      "\n",
      "Adversarial test data.\n",
      "Correctly classified: 9303\n",
      "Incorrectly classified: 697\n",
      "Adversarial accuracy: 93.03%\n"
     ]
    }
   ],
   "source": [
    "x_test_deepfool, x_test_deepfool_pred = model.evaluate_adversaries(classifier, x_test, y_test, method='deepfool',\n",
    "                                        adversaries_path='../data/mnist_x_test_deepfool.pkl')"
   ]
  },
  {
   "cell_type": "code",
   "execution_count": 10,
   "metadata": {},
   "outputs": [
    {
     "name": "stdout",
     "output_type": "stream",
     "text": [
      "\n",
      "Computing random projections.\n",
      "Input shape:  (10000, 28, 28, 1)\n",
      "Output shape: (10, 10000, 8, 8, 1) -> 10 random projections of 10000 images whose shape is (8, 8, 1)\n",
      "\n",
      "Adversarial test data.\n",
      "Correctly classified: 6314\n",
      "Incorrectly classified: 3686\n",
      "Adversarial accuracy: 63.14%\n"
     ]
    }
   ],
   "source": [
    "x_test_projected, x_test_projected_pred = model.evaluate_adversaries(classifier, x_test, y_test, method='projected_gradient',\n",
    "                                        adversaries_path='../data/mnist_x_test_projected_gradient.pkl')"
   ]
  },
  {
   "cell_type": "markdown",
   "metadata": {},
   "source": [
    "## Adversarial training"
   ]
  },
  {
   "cell_type": "code",
   "execution_count": 12,
   "metadata": {},
   "outputs": [],
   "source": [
    "classifier, projector = model.load_classifier(\n",
    "    relative_path=\"../trained_models/random_ensemble/robust_fgsm_proj10_size8/\",\n",
    "    model_name=\"random_ensemble_robust_fgsm\")"
   ]
  },
  {
   "cell_type": "code",
   "execution_count": 13,
   "metadata": {},
   "outputs": [
    {
     "name": "stdout",
     "output_type": "stream",
     "text": [
      "\n",
      "Adversarial evaluation using FGSM method.\n",
      "\n",
      "Computing random projections.\n",
      "Input shape:  (10000, 28, 28, 1)\n",
      "Output shape: (10, 10000, 8, 8, 1) -> 10 random projections of 10000 images whose shape is (8, 8, 1)\n",
      "\n",
      "Adversarial test data.\n",
      "Correctly classified: 7123\n",
      "Incorrectly classified: 2877\n",
      "Adversarial accuracy: 71.23%\n"
     ]
    }
   ],
   "source": [
    "x_test_fgsm, x_test_fgsm_pred = model.evaluate_adversaries(classifier, x_test, y_test, method='fgsm')"
   ]
  },
  {
   "cell_type": "code",
   "execution_count": 14,
   "metadata": {},
   "outputs": [
    {
     "name": "stdout",
     "output_type": "stream",
     "text": [
      "\n",
      "Computing random projections.\n",
      "Input shape:  (10000, 28, 28, 1)\n",
      "Output shape: (10, 10000, 8, 8, 1) -> 10 random projections of 10000 images whose shape is (8, 8, 1)\n",
      "\n",
      "Adversarial test data.\n",
      "Correctly classified: 9130\n",
      "Incorrectly classified: 870\n",
      "Adversarial accuracy: 91.30%\n"
     ]
    }
   ],
   "source": [
    "x_test_deepfool, x_test_deepfool_pred = model.evaluate_adversaries(classifier, x_test, y_test, \n",
    "                                                                     method='deepfool',\n",
    "                                                                     adversaries_path='../data/mnist_x_test_deepfool.pkl')"
   ]
  },
  {
   "cell_type": "code",
   "execution_count": 15,
   "metadata": {},
   "outputs": [
    {
     "name": "stdout",
     "output_type": "stream",
     "text": [
      "\n",
      "Computing random projections.\n",
      "Input shape:  (10000, 28, 28, 1)\n",
      "Output shape: (10, 10000, 8, 8, 1) -> 10 random projections of 10000 images whose shape is (8, 8, 1)\n",
      "\n",
      "Adversarial test data.\n",
      "Correctly classified: 7657\n",
      "Incorrectly classified: 2343\n",
      "Adversarial accuracy: 76.57%\n"
     ]
    }
   ],
   "source": [
    "x_test_projected, x_test_projected_pred = model.evaluate_adversaries(classifier, x_test, y_test, method='projected_gradient',\n",
    "                                        adversaries_path='../data/mnist_x_test_projected_gradient.pkl')"
   ]
  }
 ],
 "metadata": {
  "kernelspec": {
   "display_name": "Python 3",
   "language": "python",
   "name": "python3"
  },
  "language_info": {
   "codemirror_mode": {
    "name": "ipython",
    "version": 3
   },
   "file_extension": ".py",
   "mimetype": "text/x-python",
   "name": "python",
   "nbconvert_exporter": "python",
   "pygments_lexer": "ipython3",
   "version": "3.6.7"
  }
 },
 "nbformat": 4,
 "nbformat_minor": 2
}
