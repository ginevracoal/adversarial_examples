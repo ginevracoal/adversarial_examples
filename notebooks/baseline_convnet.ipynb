{
 "cells": [
  {
   "cell_type": "markdown",
   "metadata": {},
   "source": [
    "# FGSM attack on a basic CNN\n",
    "This is an example of **fast gradient sign method** applied on MNIST dataset and refers to the model `src/baseline_convnet.py` "
   ]
  },
  {
   "cell_type": "code",
   "execution_count": 1,
   "metadata": {},
   "outputs": [
    {
     "name": "stderr",
     "output_type": "stream",
     "text": [
      "Using TensorFlow backend.\n"
     ]
    }
   ],
   "source": [
    "import sys\n",
    "from os.path import abspath\n",
    "\n",
    "sys.path.append(abspath('../src/'))\n",
    "\n",
    "import keras\n",
    "from keras.models import Sequential, Model\n",
    "from keras.layers import Dense, Dropout, Flatten, Input\n",
    "from keras.layers import Conv2D, MaxPooling2D\n",
    "from utils import *\n",
    "from baseline_convnet import BaselineConvnet\n",
    "import matplotlib.pyplot as plt\n",
    "from sklearn import preprocessing\n",
    "import random"
   ]
  },
  {
   "cell_type": "code",
   "execution_count": 2,
   "metadata": {},
   "outputs": [],
   "source": [
    "TRAINED_MODEL = \"IBM-art/mnist_cnn_original.h5\""
   ]
  },
  {
   "cell_type": "code",
   "execution_count": 3,
   "metadata": {},
   "outputs": [
    {
     "name": "stdout",
     "output_type": "stream",
     "text": [
      "\n",
      "Loading mnist.\n",
      "x_train shape: (60000, 28, 28, 1) \n",
      "x_test shape: (10000, 28, 28, 1)\n",
      "WARNING:tensorflow:From /home/ginevracoal/virtualenvs/venv/lib/python3.6/site-packages/tensorflow/python/framework/op_def_library.py:263: colocate_with (from tensorflow.python.framework.ops) is deprecated and will be removed in a future version.\n",
      "Instructions for updating:\n",
      "Colocations handled automatically by placer.\n",
      "WARNING:tensorflow:From /home/ginevracoal/virtualenvs/venv/lib/python3.6/site-packages/keras/backend/tensorflow_backend.py:3445: calling dropout (from tensorflow.python.ops.nn_ops) with keep_prob is deprecated and will be removed in a future version.\n",
      "Instructions for updating:\n",
      "Please use `rate` instead of `keep_prob`. Rate should be set to `rate = 1 - keep_prob`.\n",
      "_________________________________________________________________\n",
      "Layer (type)                 Output Shape              Param #   \n",
      "=================================================================\n",
      "input_1 (InputLayer)         (None, 28, 28, 1)         0         \n",
      "_________________________________________________________________\n",
      "conv2d_1 (Conv2D)            (None, 26, 26, 32)        320       \n",
      "_________________________________________________________________\n",
      "conv2d_2 (Conv2D)            (None, 24, 24, 64)        18496     \n",
      "_________________________________________________________________\n",
      "max_pooling2d_1 (MaxPooling2 (None, 12, 12, 64)        0         \n",
      "_________________________________________________________________\n",
      "dropout_1 (Dropout)          (None, 12, 12, 64)        0         \n",
      "_________________________________________________________________\n",
      "flatten_1 (Flatten)          (None, 9216)              0         \n",
      "_________________________________________________________________\n",
      "dense_1 (Dense)              (None, 128)               1179776   \n",
      "_________________________________________________________________\n",
      "dropout_2 (Dropout)          (None, 128)               0         \n",
      "_________________________________________________________________\n",
      "dense_2 (Dense)              (None, 10)                1290      \n",
      "=================================================================\n",
      "Total params: 1,199,882\n",
      "Trainable params: 1,199,882\n",
      "Non-trainable params: 0\n",
      "_________________________________________________________________\n",
      "WARNING:tensorflow:From /home/ginevracoal/virtualenvs/venv/lib/python3.6/site-packages/tensorflow/python/ops/math_ops.py:3066: to_int32 (from tensorflow.python.ops.math_ops) is deprecated and will be removed in a future version.\n",
      "Instructions for updating:\n",
      "Use tf.cast instead.\n",
      "WARNING:tensorflow:From /home/ginevracoal/virtualenvs/venv/lib/python3.6/site-packages/keras/backend/tensorflow_backend.py:3298: softmax_cross_entropy_with_logits (from tensorflow.python.ops.nn_ops) is deprecated and will be removed in a future version.\n",
      "Instructions for updating:\n",
      "\n",
      "Future major versions of TensorFlow will allow gradients to flow\n",
      "into the labels input on backprop by default.\n",
      "\n",
      "See `tf.nn.softmax_cross_entropy_with_logits_v2`.\n",
      "\n"
     ]
    }
   ],
   "source": [
    "x_train, y_train, x_test, y_test, input_shape, num_classes = preprocess_mnist()\n",
    "convNet = BaselineConvnet(input_shape=input_shape, num_classes=num_classes)\n",
    "classifier = convNet.load_classifier(TRAINED_MODEL)"
   ]
  },
  {
   "cell_type": "markdown",
   "metadata": {},
   "source": [
    "Accuracy of the trained model"
   ]
  },
  {
   "cell_type": "code",
   "execution_count": 4,
   "metadata": {},
   "outputs": [
    {
     "name": "stdout",
     "output_type": "stream",
     "text": [
      "\n",
      "Test accuracy: 99.23%\n"
     ]
    }
   ],
   "source": [
    "convNet.evaluate_test(classifier, x_test, y_test)"
   ]
  },
  {
   "cell_type": "markdown",
   "metadata": {},
   "source": [
    "Creating adversaries with FGSM"
   ]
  },
  {
   "cell_type": "code",
   "execution_count": 5,
   "metadata": {},
   "outputs": [
    {
     "name": "stdout",
     "output_type": "stream",
     "text": [
      "\n",
      "Original test data:\n",
      "Correctly classified: 9923\n",
      "Incorrectly classified: 77\n",
      "\n",
      "Adversarial test data:\n",
      "Correctly classified: 2417\n",
      "Incorrectly classified: 7583\n"
     ]
    }
   ],
   "source": [
    "x_test_pred, x_test_adv, x_test_adv_pred = convNet.evaluate_adversaries(classifier, x_test, y_test)"
   ]
  },
  {
   "cell_type": "markdown",
   "metadata": {},
   "source": [
    "Now we show some examples of correct predictions on the test set and wrong predictions on the adversarially generated test set"
   ]
  },
  {
   "cell_type": "code",
   "execution_count": 6,
   "metadata": {},
   "outputs": [
    {
     "name": "stdout",
     "output_type": "stream",
     "text": [
      "test prediction\t\t adversarial test prediction\n",
      "4 \t\t\t 9\n",
      "2 \t\t\t 8\n",
      "4 \t\t\t 8\n",
      "9 \t\t\t 8\n",
      "9 \t\t\t 3\n"
     ]
    },
    {
     "data": {
      "image/png": "[encoded data removed]",
      "text/plain": [
       "<Figure size 576x864 with 10 Axes>"
      ]
     },
     "metadata": {
      "needs_background": "light"
     },
     "output_type": "display_data"
    }
   ],
   "source": [
    "# one hot decoding of the labels\n",
    "y_test_numeric = np.argmax(y_test, axis=1)\n",
    "\n",
    "# idxs for correct predictions on test set, wrong on adversarial test set\n",
    "#idxs = np.where((y_test_numeric == x_test_pred) & (y_test_numeric != x_test_adv_pred))[0]\n",
    "idxs = np.where((y_test_numeric == x_test_pred) & (y_test_numeric != x_test_adv_pred))[0]\n",
    "\n",
    "# reshape image arrays\n",
    "im_test = [im.reshape(28, 28) for im in x_test]\n",
    "im_test_adv = [im.reshape(28, 28) for im in x_test_adv]\n",
    "\n",
    "# randomly sample n images\n",
    "random.seed(111)\n",
    "n = 5 \n",
    "plot_idxs = np.random.choice(idxs, n)\n",
    "\n",
    "f, ax = plt.subplots(n, 2, figsize=(8,12))\n",
    "print(\"test prediction\\t\\t adversarial test prediction\")\n",
    "for i,idx in enumerate(plot_idxs):\n",
    "    ax[i,0].imshow(im_test[idx], cmap='gray')\n",
    "    ax[i,1].imshow(im_test_adv[idx], cmap='gray')\n",
    "    print(x_test_pred[idx],\"\\t\\t\\t\", x_test_adv_pred[idx])\n",
    "plt.show()"
   ]
  }
 ],
 "metadata": {
  "kernelspec": {
   "display_name": "Python 3",
   "language": "python",
   "name": "python3"
  },
  "language_info": {
   "codemirror_mode": {
    "name": "ipython",
    "version": 3
   },
   "file_extension": ".py",
   "mimetype": "text/x-python",
   "name": "python",
   "nbconvert_exporter": "python",
   "pygments_lexer": "ipython3",
   "version": "3.6.7"
  }
 },
 "nbformat": 4,
 "nbformat_minor": 2
}
